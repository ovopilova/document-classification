{
 "cells": [
  {
   "cell_type": "markdown",
   "metadata": {},
   "source": [
    "# Линейная регрессия"
   ]
  },
  {
   "cell_type": "markdown",
   "metadata": {},
   "source": [
    "Данные содержатся в файле `data/lin_reg.txt`. Прочитать их можно следующим так:"
   ]
  },
  {
   "cell_type": "code",
   "execution_count": 1,
   "metadata": {},
   "outputs": [],
   "source": [
    "import numpy as np\n",
    "import matplotlib.pyplot as plt\n",
    "import pandas as pd\n",
    "df = pd.read_csv('lin_reg.txt', names = ['x1', 'x2', 'x3', 'x4', 'y'])\n",
    "X = df[['x1', 'x2', 'x3', 'x4']]\n",
    "Y = df[['y']]"
   ]
  },
  {
   "cell_type": "code",
   "execution_count": 2,
   "metadata": {},
   "outputs": [
    {
     "data": {
      "text/html": [
       "<div>\n",
       "<style scoped>\n",
       "    .dataframe tbody tr th:only-of-type {\n",
       "        vertical-align: middle;\n",
       "    }\n",
       "\n",
       "    .dataframe tbody tr th {\n",
       "        vertical-align: top;\n",
       "    }\n",
       "\n",
       "    .dataframe thead th {\n",
       "        text-align: right;\n",
       "    }\n",
       "</style>\n",
       "<table border=\"1\" class=\"dataframe\">\n",
       "  <thead>\n",
       "    <tr style=\"text-align: right;\">\n",
       "      <th></th>\n",
       "      <th>x1</th>\n",
       "      <th>x2</th>\n",
       "      <th>x3</th>\n",
       "      <th>x4</th>\n",
       "    </tr>\n",
       "  </thead>\n",
       "  <tbody>\n",
       "    <tr>\n",
       "      <td>0</td>\n",
       "      <td>9.310</td>\n",
       "      <td>-17.043</td>\n",
       "      <td>20.807</td>\n",
       "      <td>11.109</td>\n",
       "    </tr>\n",
       "    <tr>\n",
       "      <td>1</td>\n",
       "      <td>-6.446</td>\n",
       "      <td>-12.460</td>\n",
       "      <td>-12.941</td>\n",
       "      <td>-14.715</td>\n",
       "    </tr>\n",
       "    <tr>\n",
       "      <td>2</td>\n",
       "      <td>14.324</td>\n",
       "      <td>-9.624</td>\n",
       "      <td>29.533</td>\n",
       "      <td>1.439</td>\n",
       "    </tr>\n",
       "    <tr>\n",
       "      <td>3</td>\n",
       "      <td>-19.511</td>\n",
       "      <td>9.563</td>\n",
       "      <td>-38.774</td>\n",
       "      <td>-1.116</td>\n",
       "    </tr>\n",
       "    <tr>\n",
       "      <td>4</td>\n",
       "      <td>-5.917</td>\n",
       "      <td>3.696</td>\n",
       "      <td>-11.428</td>\n",
       "      <td>13.364</td>\n",
       "    </tr>\n",
       "  </tbody>\n",
       "</table>\n",
       "</div>"
      ],
      "text/plain": [
       "       x1      x2      x3      x4\n",
       "0   9.310 -17.043  20.807  11.109\n",
       "1  -6.446 -12.460 -12.941 -14.715\n",
       "2  14.324  -9.624  29.533   1.439\n",
       "3 -19.511   9.563 -38.774  -1.116\n",
       "4  -5.917   3.696 -11.428  13.364"
      ]
     },
     "execution_count": 2,
     "metadata": {},
     "output_type": "execute_result"
    }
   ],
   "source": [
    "X.head()"
   ]
  },
  {
   "cell_type": "code",
   "execution_count": 3,
   "metadata": {},
   "outputs": [],
   "source": [
    "X = np.array(X)\n",
    "Y = np.array(Y)"
   ]
  },
  {
   "cell_type": "markdown",
   "metadata": {},
   "source": [
    "При выполнении заданий **нельзя** пользоваться `scikit-learn` и т.п., только `NumPy`/`JAX`/`TF`/`PyTorch` и `matplotlib`/`seaborn`/`plotly`/etc.\n",
    "\n",
    "1. Нарисуйте график среднеквадратичной ошибки в зависимости от параметра регуляризации $\\alpha$, используя полные данные для обучения и для тестирования. \n",
    "2. Подготовьте исходные данные для 5 fold CV.\n",
    "3. С помощью CV найдите оптимальное значение $\\alpha$ на какой-нибудь сетке значений.\n",
    "4. Постройте валидационную кривую. \n",
    "5. Постройте кривую обучения."
   ]
  },
  {
   "cell_type": "code",
   "execution_count": 4,
   "metadata": {},
   "outputs": [],
   "source": [
    "def forward_pass(W, b, X):\n",
    "    y = X @ W + b\n",
    "    return y\n",
    "    \n",
    "def compute_loss(W, b, y, y_true, alpha):\n",
    "    loss = np.sum(np.square(y - y_true))/(y.shape[0]) + alpha * np.sum(np.square(W))\n",
    "    return loss\n",
    "    \n",
    "def backward_pass(W, b, x_train, y_true, y_hat, alpha):\n",
    "    m = y_hat.shape[0]\n",
    "    db = 2.0 * np.sum(x_train @ W + b - y_true.reshape(y_true.shape[0], 1))/m    \n",
    "    dW = 2.0 * ((x_train @ W + b - y_true.reshape(y_true.shape[0], 1)).T @ x_train) / m + 2.0 * alpha * W.T #np.dot((y_true.reshape(1, y_true.shape[0]) - y_hat.reshape(1, y_true.shape[0])), x_train) / m #+ 2.0 * alpha * W.T\n",
    "\n",
    "    return dW, db\n",
    "    \n",
    "def update_params(W, b, dW, db, lr):\n",
    "    W = W - lr * dW.reshape(num_features, 1)\n",
    "    b = b - lr * db\n",
    "    return W, b\n",
    "        \n",
    "def train(W, b, x_train, y_train, iterations, lr, alpha, print_ = False):\n",
    "    losses = []\n",
    "    w_ = []\n",
    "    b_ = []\n",
    "    w_.append(W)\n",
    "    b_.append(b)\n",
    "    for i in range(iterations):\n",
    "        y_hat = forward_pass(W, b, x_train)\n",
    "        dW, db = backward_pass(W, b, x_train, y_train, y_hat, alpha)\n",
    "        W, b = update_params(W, b, dW, db, lr)\n",
    "        loss = compute_loss(W, b, y_hat, y_train, alpha)\n",
    "        losses.append(loss)\n",
    "        w_.append(W)\n",
    "        b_.append(b)\n",
    "        if print_ == True:\n",
    "            if i % int(iterations/10) == 0:\n",
    "                print('Iter: {}, Current loss: {:.4f}'.format(i, loss))\n",
    "    return W, b, losses, w_, b_"
   ]
  },
  {
   "cell_type": "markdown",
   "metadata": {},
   "source": [
    "1. Нарисуйте график среднеквадратичной ошибки в зависимости от параметра регуляризации  𝛼 , используя полные данные для обучения и для тестирования."
   ]
  },
  {
   "cell_type": "code",
   "execution_count": 5,
   "metadata": {},
   "outputs": [
    {
     "data": {
      "text/plain": [
       "[<matplotlib.lines.Line2D at 0x270aca24a48>]"
      ]
     },
     "execution_count": 5,
     "metadata": {},
     "output_type": "execute_result"
    },
    {
     "data": {
      "image/png": "[encoded data removed]",
      "text/plain": [
       "<Figure size 432x288 with 1 Axes>"
      ]
     },
     "metadata": {
      "needs_background": "light"
     },
     "output_type": "display_data"
    }
   ],
   "source": [
    "interval = np.linspace(0, 1, 100)\n",
    "err = []\n",
    "num_features = 4\n",
    "W = np.zeros((num_features, 1))\n",
    "b = 0\n",
    "for alpha in interval:\n",
    "    w_opt, b_opt, _, _, _ = train(W = W, b = b, x_train = X, y_train = Y, iterations = 3000, lr = 0.001, alpha = alpha)\n",
    "    error = compute_loss(w_opt, b_opt, forward_pass(w_opt, b_opt, X), Y, alpha = alpha)\n",
    "    err.append(error)\n",
    "    \n",
    "plt.plot(err)"
   ]
  },
  {
   "cell_type": "markdown",
   "metadata": {},
   "source": [
    "2. Подготовьте исходные данные для 5 fold CV - далее используем это для решения 3 пункта"
   ]
  },
  {
   "cell_type": "code",
   "execution_count": null,
   "metadata": {},
   "outputs": [],
   "source": [
    "cv = 5\n",
    "freq = int(df.shape[0] / cv)\n",
    "\n",
    "err_train = []\n",
    "err_test = []\n",
    "\n",
    "for step in range(0, X.shape[0], freq):\n",
    "    fold = df[step:step + freq]\n",
    "\n",
    "    X_test = X[step:step + freq]\n",
    "    Y_test = Y[step:step + freq]\n",
    "    X_train = X[0:step]\n",
    "    X_train2 = X[step + freq:]\n",
    "    X_train = np.concatenate((X_train, X_train2), axis=0)\n",
    "    Y_train = Y[0:step]\n",
    "    Y_train2 = Y[step + freq:]\n",
    "    Y_train = np.concatenate((Y_train, Y_train2), axis=0)\n",
    "\n",
    "    w_opt, b_opt, _, _, _ = train(W = W, b = b, x_train = X_train, y_train = Y_train, iterations = 3000, lr = 0.001, alpha = alpha)\n",
    "    err_train.append(compute_loss(w_opt, b_opt, forward_pass(w_opt, b_opt, X_train), Y_train, alpha = alpha))\n",
    "    err_test.append(compute_loss(w_opt, b_opt, forward_pass(w_opt, b_opt, X_test), Y_test, alpha = alpha))\n",
    "\n",
    "err_train = np.array(err_train)\n",
    "err_test = np.array(err_test)\n",
    "result = err_test.mean()"
   ]
  },
  {
   "cell_type": "markdown",
   "metadata": {},
   "source": [
    "3. С помощью CV найдите оптимальное значение  𝛼  на какой-нибудь сетке значений."
   ]
  },
  {
   "cell_type": "code",
   "execution_count": 6,
   "metadata": {},
   "outputs": [
    {
     "name": "stdout",
     "output_type": "stream",
     "text": [
      "лучшее альфа:  0.0\n",
      "лучшее значение ошибки 96.1751637949671\n"
     ]
    }
   ],
   "source": [
    "results = {}\n",
    "cv = 5\n",
    "interval = np.linspace(0, 1, 100)\n",
    "\n",
    "W = np.zeros((num_features, 1))\n",
    "b = 0\n",
    "\n",
    "freq = int(X.shape[0] / cv)\n",
    "for alpha in interval:\n",
    "    \n",
    "    err_train = []\n",
    "    err_test = []\n",
    "\n",
    "    for step in range(0, X.shape[0], freq):\n",
    "        X_test = X[step:step + freq]\n",
    "        Y_test = Y[step:step + freq]\n",
    "        X_train = X[0:step]\n",
    "        X_train2 = X[step + freq:]\n",
    "        X_train = np.concatenate((X_train, X_train2), axis=0)\n",
    "        Y_train = Y[0:step]\n",
    "        Y_train2 = Y[step + freq:]\n",
    "        Y_train = np.concatenate((Y_train, Y_train2), axis=0)\n",
    "\n",
    "        w_opt, b_opt, _, _, _ = train(W = W, b = b, x_train = X_train, y_train = Y_train, iterations = 3000, lr = 0.001, alpha = alpha)\n",
    "        err_train.append(compute_loss(w_opt, b_opt, forward_pass(w_opt, b_opt, X_train), Y_train, alpha = alpha))\n",
    "        err_test.append(compute_loss(w_opt, b_opt, forward_pass(w_opt, b_opt, X_test), Y_test, alpha = alpha))\n",
    "\n",
    "    err_train = np.array(err_train)\n",
    "    err_test = np.array(err_test)\n",
    "    result = err_test.mean()\n",
    "    results[alpha] = result\n",
    "    \n",
    "min_alpha = min(results, key = results.get)\n",
    "min_ = results[min_alpha]\n",
    "\n",
    "print(\"лучшее альфа: \", min_alpha)\n",
    "print(\"лучшее значение ошибки\", min_)"
   ]
  },
  {
   "cell_type": "markdown",
   "metadata": {},
   "source": [
    "4-5. Постройте валидационную кривую и кривую обучения."
   ]
  },
  {
   "cell_type": "code",
   "execution_count": 7,
   "metadata": {},
   "outputs": [
    {
     "data": {
      "text/plain": [
       "Text(0.5, 1.0, 'Валидационная кривая и кривая обучения')"
      ]
     },
     "execution_count": 7,
     "metadata": {},
     "output_type": "execute_result"
    },
    {
     "data": {
      "image/png": "[encoded data removed]",
      "text/plain": [
       "<Figure size 432x288 with 1 Axes>"
      ]
     },
     "metadata": {
      "needs_background": "light"
     },
     "output_type": "display_data"
    }
   ],
   "source": [
    "W = np.zeros((num_features, 1))\n",
    "b = 0\n",
    "test_losses = []\n",
    "size = int(X.shape[0] * 0.8)\n",
    "X_train = X[:size]\n",
    "X_test = X[size:]\n",
    "Y_train = Y[:size]\n",
    "Y_test = Y[size:]\n",
    "w_opt, b_opt, losses, w_, b_ = train(W = W, b = b, x_train = X_train, y_train = Y_train, iterations = 15, lr = 0.001, alpha = min_alpha)\n",
    "for i in range (len(w_)):\n",
    "    test_losses.append(compute_loss(w_[i], b_[i], forward_pass(w_[i], b_[i], X_test), Y_test, alpha = min_alpha))\n",
    "    \n",
    "plt.figure()\n",
    "plt.plot(losses)\n",
    "plt.plot(test_losses)\n",
    "\n",
    "plt.legend(['train', 'val'])\n",
    "plt.title('Валидационная кривая и кривая обучения')"
   ]
  }
 ],
 "metadata": {
  "kernelspec": {
   "display_name": "Python 3",
   "language": "python",
   "name": "python3"
  },
  "language_info": {
   "codemirror_mode": {
    "name": "ipython",
    "version": 3
   },
   "file_extension": ".py",
   "mimetype": "text/x-python",
   "name": "python",
   "nbconvert_exporter": "python",
   "pygments_lexer": "ipython3",
   "version": "3.7.4"
  }
 },
 "nbformat": 4,
 "nbformat_minor": 4
}
