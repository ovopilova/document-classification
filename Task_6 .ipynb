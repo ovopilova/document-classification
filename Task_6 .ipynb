{
  "nbformat": 4,
  "nbformat_minor": 0,
  "metadata": {
    "kernelspec": {
      "display_name": "Python 3",
      "language": "python",
      "name": "python3"
    },
    "language_info": {
      "codemirror_mode": {
        "name": "ipython",
        "version": 3
      },
      "file_extension": ".py",
      "mimetype": "text/x-python",
      "name": "python",
      "nbconvert_exporter": "python",
      "pygments_lexer": "ipython3",
      "version": "3.7.4"
    },
    "colab": {
      "name": "Task_6.ipynb",
      "provenance": [],
      "toc_visible": true
    },
    "accelerator": "GPU"
  },
  "cells": [
    {
      "cell_type": "markdown",
      "metadata": {
        "id": "t026XAe_CjdO"
      },
      "source": [
        "## Данные\n",
        "\n",
        "Данные в [архиве](https://drive.google.com/file/d/15o7fdxTgndoy6K-e7g8g1M2-bOOwqZPl/view?usp=sharing). В нём два файла:\n",
        "- `news_train.txt` тренировочное множество\n",
        "- `news_test.txt` тренировочное множество\n",
        "\n",
        "С некоторых новостных сайтов были загружены тексты новостей за период  несколько лет, причем каждая новость принаделжит к какой-то рубрике: `science`, `style`, `culture`, `life`, `economics`, `business`, `travel`, `forces`, `media`, `sport`.\n",
        "\n",
        "В каждой строке файла содержится метка рубрики, заголовок новостной статьи и сам текст статьи, например:\n",
        "\n",
        ">    **sport**&nbsp;&lt;tab&gt;&nbsp;**Сборная Канады по хоккею разгромила чехов**&nbsp;&lt;tab&gt;&nbsp;**Сборная Канады по хоккею крупно об...**"
      ]
    },
    {
      "cell_type": "markdown",
      "metadata": {
        "id": "aVZypLjdCjdO"
      },
      "source": [
        "# Задача\n",
        "\n",
        "1. Обработать данные, получив для каждого текста набор токенов\n",
        "Обработать токены с помощью (один вариант из трех):\n",
        "    - pymorphy2\n",
        "    - русского [snowball стеммера](https://www.nltk.org/howto/stem.html)\n",
        "    - [SentencePiece](https://github.com/google/sentencepiece) или [Huggingface Tokenizers](https://github.com/huggingface/tokenizers)\n",
        "    \n",
        "    \n",
        "2. Обучить word embeddings (fastText, word2vec, gloVe) на тренировочных данных. Можно использовать [gensim](https://radimrehurek.com/gensim/models/word2vec.html) . Продемонстрировать семантические ассоциации. \n",
        "\n",
        "3. Реализовать алгоритм классификации, посчитать точноть на тестовых данных, подобрать гиперпараметры. Метод векторизации выбрать произвольно - можно использовать $tf-idf$ с понижением размерности (см. scikit-learn), можно использовать обученные на предыдущем шаге векторные представления, можно использовать [предобученные модели](https://rusvectores.org/ru/models/). Имейте ввиду, что простое \"усреднение\" токенов в тексте скорее всего не даст положительных результатов. Нужно реализовать два алгоритмов из трех:\n",
        "     - SVM\n",
        "     - наивный байесовский классификатор\n",
        "     - логистическая регрессия\n",
        "    \n",
        "\n",
        "4.* Реализуйте классификацию с помощью нейросетевых моделей. Например [RuBERT](http://docs.deeppavlov.ai/en/master/features/models/bert.html) или [ELMo](https://rusvectores.org/ru/models/)."
      ]
    },
    {
      "cell_type": "markdown",
      "metadata": {
        "id": "Ig_j9nOdCjdO"
      },
      "source": [
        "lines = list(open('./news_train.txt', 'r', encoding='utf-8'))"
      ]
    },
    {
      "cell_type": "code",
      "metadata": {
        "colab": {
          "base_uri": "https://localhost:8080/"
        },
        "id": "-8hk1RtcCjdO",
        "outputId": "cea64ba6-58c8-45a2-937e-6119d0c5c3de"
      },
      "source": [
        "!pip install pymorphy2\n",
        "\n",
        "\n",
        "import random\n",
        "from gensim import models\n",
        "from collections import Counter\n",
        "import re\n",
        "import pymorphy2\n",
        "from sklearn.feature_extraction.text import TfidfVectorizer\n",
        "from sklearn.linear_model import  LogisticRegression\n",
        "from sklearn import model_selection\n",
        "import numpy as np\n",
        "from sklearn.metrics import classification_report\n",
        "from sklearn.svm import SVC\n",
        "from sklearn.naive_bayes import MultinomialNB\n",
        "lines = list(open('./news_train.txt', 'r', encoding='utf-8'))\n",
        "random.shuffle(lines)"
      ],
      "execution_count": 1,
      "outputs": [
        {
          "output_type": "stream",
          "text": [
            "Requirement already satisfied: pymorphy2 in /usr/local/lib/python3.6/dist-packages (0.9.1)\n",
            "Requirement already satisfied: docopt>=0.6 in /usr/local/lib/python3.6/dist-packages (from pymorphy2) (0.6.2)\n",
            "Requirement already satisfied: pymorphy2-dicts-ru<3.0,>=2.4 in /usr/local/lib/python3.6/dist-packages (from pymorphy2) (2.4.417127.4579844)\n",
            "Requirement already satisfied: dawg-python>=0.7.1 in /usr/local/lib/python3.6/dist-packages (from pymorphy2) (0.7.2)\n"
          ],
          "name": "stdout"
        }
      ]
    },
    {
      "cell_type": "code",
      "metadata": {
        "colab": {
          "base_uri": "https://localhost:8080/"
        },
        "id": "RLS9O3sHCjdP",
        "outputId": "5181e1d1-079f-4427-eb97-1699c0bd2bad"
      },
      "source": [
        "Counter([line.split('\\t')[0] for line in lines[:15000]])"
      ],
      "execution_count": 2,
      "outputs": [
        {
          "output_type": "execute_result",
          "data": {
            "text/plain": [
              "Counter({'business': 554,\n",
              "         'culture': 2053,\n",
              "         'economics': 2080,\n",
              "         'forces': 1225,\n",
              "         'life': 2033,\n",
              "         'media': 2111,\n",
              "         'science': 2156,\n",
              "         'sport': 2215,\n",
              "         'style': 284,\n",
              "         'travel': 289})"
            ]
          },
          "metadata": {
            "tags": []
          },
          "execution_count": 2
        }
      ]
    },
    {
      "cell_type": "code",
      "metadata": {
        "id": "cGYxBJqJCjdQ"
      },
      "source": [
        "training_topics = []\n",
        "training_text = []\n",
        "\n",
        "for line in lines:\n",
        "    lines_split = line.split('\\t')\n",
        "    training_topics.append(lines_split[0])\n",
        "    training_titles = lines_split[1] \n",
        "    training_sentences = lines_split[2]\n",
        "    training_text.append(training_titles + ' ' + training_sentences)"
      ],
      "execution_count": 3,
      "outputs": []
    },
    {
      "cell_type": "code",
      "metadata": {
        "id": "oPJVTa7VCjdQ"
      },
      "source": [
        "morph = pymorphy2.MorphAnalyzer()"
      ],
      "execution_count": 4,
      "outputs": []
    },
    {
      "cell_type": "code",
      "metadata": {
        "id": "ERgqsdSdCjdR"
      },
      "source": [
        "words = []\n",
        "for item in training_text:\n",
        "    words.append(re.sub('[^а-я ]', '', item.replace('.', ' ').lower()).split())"
      ],
      "execution_count": 5,
      "outputs": []
    },
    {
      "cell_type": "markdown",
      "metadata": {
        "id": "HKdDLJcxCjdR"
      },
      "source": [
        "Посмотрим, что мы имеем:"
      ]
    },
    {
      "cell_type": "code",
      "metadata": {
        "colab": {
          "base_uri": "https://localhost:8080/",
          "height": 132
        },
        "id": "MotjVIKQCjdR",
        "outputId": "1c5863ba-290c-4053-afee-4d70ac6e8351"
      },
      "source": [
        "training_text[0]"
      ],
      "execution_count": 6,
      "outputs": [
        {
          "output_type": "execute_result",
          "data": {
            "application/vnd.google.colaboratory.intrinsic+json": {
              "type": "string"
            },
            "text/plain": [
              "'Емельяненко и Мальдонадо рассудит вице-президент Союза ММА России Главным судьей боя между Федором Емельяненко и Фабио Мальдонадо станет вице-президент Союза ММА России, председатель Всероссийской коллегии судей и Главный судья Всемирной Ассоциации WMMAA Радмир Габдуллин. Об этом сообщается в пресс-релизе, поступившем в редакцию «Ленты.ру».«Я очень рад, что именно судьи Союза ММА России будут работать на этом турнире, где выступят много знаковых бойцов. Для меня лично большая честь быть главным арбитром, я знаю Федора не только как руководителя, но и как хорошего человека, достойного друга и наставника, как пример, на который можно равняться и за которым можно идти», — заявил Габдуллин.19 апреля Мальдонадо заявил о намерении нокаутировать Емельяненко. В тот же день Емельяненко заявил, что хочет встретиться с действующим обладателем чемпионского пояса Абсолютного бойцовского чемпионата (UFC) в тяжелом весе бразильцем Фабрисиу Вердумом.На счету 36-летнего Мальдонадо 31 бой, 22 победы и 9 поражений. 39-летний Емельяненко провел 41 бой, в котором одержал 36 побед и потерпел четыре поражения, еще один поединок был признан несостоявшимся.\\n'"
            ]
          },
          "metadata": {
            "tags": []
          },
          "execution_count": 6
        }
      ]
    },
    {
      "cell_type": "code",
      "metadata": {
        "colab": {
          "base_uri": "https://localhost:8080/"
        },
        "id": "brpM9oFJCjdR",
        "outputId": "bfd8bddb-dad3-4090-fee8-4ce3572f199d"
      },
      "source": [
        "words[0]"
      ],
      "execution_count": 7,
      "outputs": [
        {
          "output_type": "execute_result",
          "data": {
            "text/plain": [
              "['емельяненко',\n",
              " 'и',\n",
              " 'мальдонадо',\n",
              " 'рассудит',\n",
              " 'вицепрезидент',\n",
              " 'союза',\n",
              " 'мма',\n",
              " 'россии',\n",
              " 'главным',\n",
              " 'судьей',\n",
              " 'боя',\n",
              " 'между',\n",
              " 'федором',\n",
              " 'емельяненко',\n",
              " 'и',\n",
              " 'фабио',\n",
              " 'мальдонадо',\n",
              " 'станет',\n",
              " 'вицепрезидент',\n",
              " 'союза',\n",
              " 'мма',\n",
              " 'россии',\n",
              " 'председатель',\n",
              " 'всероссийской',\n",
              " 'коллегии',\n",
              " 'судей',\n",
              " 'и',\n",
              " 'главный',\n",
              " 'судья',\n",
              " 'всемирной',\n",
              " 'ассоциации',\n",
              " 'радмир',\n",
              " 'габдуллин',\n",
              " 'об',\n",
              " 'этом',\n",
              " 'сообщается',\n",
              " 'в',\n",
              " 'прессрелизе',\n",
              " 'поступившем',\n",
              " 'в',\n",
              " 'редакцию',\n",
              " 'ленты',\n",
              " 'ру',\n",
              " 'я',\n",
              " 'очень',\n",
              " 'рад',\n",
              " 'что',\n",
              " 'именно',\n",
              " 'судьи',\n",
              " 'союза',\n",
              " 'мма',\n",
              " 'россии',\n",
              " 'будут',\n",
              " 'работать',\n",
              " 'на',\n",
              " 'этом',\n",
              " 'турнире',\n",
              " 'где',\n",
              " 'выступят',\n",
              " 'много',\n",
              " 'знаковых',\n",
              " 'бойцов',\n",
              " 'для',\n",
              " 'меня',\n",
              " 'лично',\n",
              " 'большая',\n",
              " 'честь',\n",
              " 'быть',\n",
              " 'главным',\n",
              " 'арбитром',\n",
              " 'я',\n",
              " 'знаю',\n",
              " 'федора',\n",
              " 'не',\n",
              " 'только',\n",
              " 'как',\n",
              " 'руководителя',\n",
              " 'но',\n",
              " 'и',\n",
              " 'как',\n",
              " 'хорошего',\n",
              " 'человека',\n",
              " 'достойного',\n",
              " 'друга',\n",
              " 'и',\n",
              " 'наставника',\n",
              " 'как',\n",
              " 'пример',\n",
              " 'на',\n",
              " 'который',\n",
              " 'можно',\n",
              " 'равняться',\n",
              " 'и',\n",
              " 'за',\n",
              " 'которым',\n",
              " 'можно',\n",
              " 'идти',\n",
              " 'заявил',\n",
              " 'габдуллин',\n",
              " 'апреля',\n",
              " 'мальдонадо',\n",
              " 'заявил',\n",
              " 'о',\n",
              " 'намерении',\n",
              " 'нокаутировать',\n",
              " 'емельяненко',\n",
              " 'в',\n",
              " 'тот',\n",
              " 'же',\n",
              " 'день',\n",
              " 'емельяненко',\n",
              " 'заявил',\n",
              " 'что',\n",
              " 'хочет',\n",
              " 'встретиться',\n",
              " 'с',\n",
              " 'действующим',\n",
              " 'обладателем',\n",
              " 'чемпионского',\n",
              " 'пояса',\n",
              " 'абсолютного',\n",
              " 'бойцовского',\n",
              " 'чемпионата',\n",
              " 'в',\n",
              " 'тяжелом',\n",
              " 'весе',\n",
              " 'бразильцем',\n",
              " 'фабрисиу',\n",
              " 'вердумом',\n",
              " 'на',\n",
              " 'счету',\n",
              " 'летнего',\n",
              " 'мальдонадо',\n",
              " 'бой',\n",
              " 'победы',\n",
              " 'и',\n",
              " 'поражений',\n",
              " 'летний',\n",
              " 'емельяненко',\n",
              " 'провел',\n",
              " 'бой',\n",
              " 'в',\n",
              " 'котором',\n",
              " 'одержал',\n",
              " 'побед',\n",
              " 'и',\n",
              " 'потерпел',\n",
              " 'четыре',\n",
              " 'поражения',\n",
              " 'еще',\n",
              " 'один',\n",
              " 'поединок',\n",
              " 'был',\n",
              " 'признан',\n",
              " 'несостоявшимся']"
            ]
          },
          "metadata": {
            "tags": []
          },
          "execution_count": 7
        }
      ]
    },
    {
      "cell_type": "code",
      "metadata": {
        "id": "QtJOloOYCjdR"
      },
      "source": [
        "for i, line in enumerate(words):\n",
        "    for j, word in enumerate(line):\n",
        "        p = morph.parse(word)[0]\n",
        "        words[i][j] = p.normal_form"
      ],
      "execution_count": 8,
      "outputs": []
    },
    {
      "cell_type": "code",
      "metadata": {
        "colab": {
          "base_uri": "https://localhost:8080/"
        },
        "id": "PZDkjLK9CjdR",
        "outputId": "ee72b60a-e9e6-4f83-b039-f2cf52ef0021"
      },
      "source": [
        "words[0]"
      ],
      "execution_count": 9,
      "outputs": [
        {
          "output_type": "execute_result",
          "data": {
            "text/plain": [
              "['емельяненко',\n",
              " 'и',\n",
              " 'мальдонадо',\n",
              " 'рассудить',\n",
              " 'вицепрезидент',\n",
              " 'союз',\n",
              " 'мма',\n",
              " 'россия',\n",
              " 'главный',\n",
              " 'судья',\n",
              " 'бой',\n",
              " 'между',\n",
              " 'фёдор',\n",
              " 'емельяненко',\n",
              " 'и',\n",
              " 'фабио',\n",
              " 'мальдонадо',\n",
              " 'стать',\n",
              " 'вицепрезидент',\n",
              " 'союз',\n",
              " 'мма',\n",
              " 'россия',\n",
              " 'председатель',\n",
              " 'всероссийский',\n",
              " 'коллегия',\n",
              " 'судья',\n",
              " 'и',\n",
              " 'главный',\n",
              " 'судья',\n",
              " 'всемирный',\n",
              " 'ассоциация',\n",
              " 'радмир',\n",
              " 'габдуллин',\n",
              " 'о',\n",
              " 'это',\n",
              " 'сообщаться',\n",
              " 'в',\n",
              " 'прессрелиз',\n",
              " 'поступить',\n",
              " 'в',\n",
              " 'редакция',\n",
              " 'лента',\n",
              " 'ру',\n",
              " 'я',\n",
              " 'очень',\n",
              " 'рад',\n",
              " 'что',\n",
              " 'именно',\n",
              " 'судья',\n",
              " 'союз',\n",
              " 'мма',\n",
              " 'россия',\n",
              " 'быть',\n",
              " 'работать',\n",
              " 'на',\n",
              " 'это',\n",
              " 'турнир',\n",
              " 'где',\n",
              " 'выступить',\n",
              " 'много',\n",
              " 'знаковый',\n",
              " 'боец',\n",
              " 'для',\n",
              " 'я',\n",
              " 'лично',\n",
              " 'больший',\n",
              " 'честь',\n",
              " 'быть',\n",
              " 'главный',\n",
              " 'арбитр',\n",
              " 'я',\n",
              " 'знать',\n",
              " 'фёдор',\n",
              " 'не',\n",
              " 'только',\n",
              " 'как',\n",
              " 'руководитель',\n",
              " 'но',\n",
              " 'и',\n",
              " 'как',\n",
              " 'хороший',\n",
              " 'человек',\n",
              " 'достойный',\n",
              " 'друг',\n",
              " 'и',\n",
              " 'наставник',\n",
              " 'как',\n",
              " 'пример',\n",
              " 'на',\n",
              " 'который',\n",
              " 'можно',\n",
              " 'равняться',\n",
              " 'и',\n",
              " 'за',\n",
              " 'который',\n",
              " 'можно',\n",
              " 'идти',\n",
              " 'заявить',\n",
              " 'габдуллин',\n",
              " 'апрель',\n",
              " 'мальдонадо',\n",
              " 'заявить',\n",
              " 'о',\n",
              " 'намерение',\n",
              " 'нокаутировать',\n",
              " 'емельяненко',\n",
              " 'в',\n",
              " 'тот',\n",
              " 'же',\n",
              " 'день',\n",
              " 'емельяненко',\n",
              " 'заявить',\n",
              " 'что',\n",
              " 'хотеть',\n",
              " 'встретиться',\n",
              " 'с',\n",
              " 'действовать',\n",
              " 'обладатель',\n",
              " 'чемпионский',\n",
              " 'пояс',\n",
              " 'абсолютный',\n",
              " 'бойцовский',\n",
              " 'чемпионат',\n",
              " 'в',\n",
              " 'тяжёлый',\n",
              " 'вес',\n",
              " 'бразилец',\n",
              " 'фабрисиу',\n",
              " 'вердум',\n",
              " 'на',\n",
              " 'счёт',\n",
              " 'летний',\n",
              " 'мальдонадо',\n",
              " 'бой',\n",
              " 'победа',\n",
              " 'и',\n",
              " 'поражение',\n",
              " 'летний',\n",
              " 'емельяненко',\n",
              " 'провести',\n",
              " 'бой',\n",
              " 'в',\n",
              " 'который',\n",
              " 'одержать',\n",
              " 'победа',\n",
              " 'и',\n",
              " 'потерпеть',\n",
              " 'четыре',\n",
              " 'поражение',\n",
              " 'ещё',\n",
              " 'один',\n",
              " 'поединок',\n",
              " 'быть',\n",
              " 'признать',\n",
              " 'несостоявшийся']"
            ]
          },
          "metadata": {
            "tags": []
          },
          "execution_count": 9
        }
      ]
    },
    {
      "cell_type": "code",
      "metadata": {
        "colab": {
          "base_uri": "https://localhost:8080/"
        },
        "id": "LjSRkbxtCjdS",
        "outputId": "652be803-9b57-40ba-db59-6fb25bbb35a3"
      },
      "source": [
        "model = models.Word2Vec(min_count = 1, alpha = 0.01, min_alpha = 0.0001, workers = 3)\n",
        "model.build_vocab(words)\n",
        "model.train(words, total_examples = model.corpus_count, epochs = 50)\n",
        "model.wv.most_similar('спорт')"
      ],
      "execution_count": 10,
      "outputs": [
        {
          "output_type": "stream",
          "text": [
            "/usr/local/lib/python3.6/dist-packages/gensim/matutils.py:737: FutureWarning: Conversion of the second argument of issubdtype from `int` to `np.signedinteger` is deprecated. In future, it will be treated as `np.int64 == np.dtype(int).type`.\n",
            "  if np.issubdtype(vec.dtype, np.int):\n"
          ],
          "name": "stderr"
        },
        {
          "output_type": "execute_result",
          "data": {
            "text/plain": [
              "[('мутко', 0.5922874212265015),\n",
              " ('самбо', 0.5552021265029907),\n",
              " ('спартакиада', 0.5309680700302124),\n",
              " ('баскетбол', 0.5034136176109314),\n",
              " ('рспорт', 0.5031712055206299),\n",
              " ('культура', 0.49950510263442993),\n",
              " ('виталий', 0.49584901332855225),\n",
              " ('молодёжь', 0.4945419430732727),\n",
              " ('спортивный', 0.48698872327804565),\n",
              " ('футбол', 0.48629340529441833)]"
            ]
          },
          "metadata": {
            "tags": []
          },
          "execution_count": 10
        }
      ]
    },
    {
      "cell_type": "code",
      "metadata": {
        "id": "31VJtQxuCjdS"
      },
      "source": [
        "vector = TfidfVectorizer(preprocessor=' '.join) \n",
        "X_train = vector.fit_transform(words) "
      ],
      "execution_count": 11,
      "outputs": []
    },
    {
      "cell_type": "code",
      "metadata": {
        "colab": {
          "base_uri": "https://localhost:8080/"
        },
        "id": "6HsZiezDMixl",
        "outputId": "f735e250-b6ed-4e54-c7c7-1cf753767477"
      },
      "source": [
        "classifier = LogisticRegression(max_iter = 10000)\n",
        "classifier.get_params().keys()"
      ],
      "execution_count": 12,
      "outputs": [
        {
          "output_type": "execute_result",
          "data": {
            "text/plain": [
              "dict_keys(['C', 'class_weight', 'dual', 'fit_intercept', 'intercept_scaling', 'l1_ratio', 'max_iter', 'multi_class', 'n_jobs', 'penalty', 'random_state', 'solver', 'tol', 'verbose', 'warm_start'])"
            ]
          },
          "metadata": {
            "tags": []
          },
          "execution_count": 12
        }
      ]
    },
    {
      "cell_type": "code",
      "metadata": {
        "id": "UTwilpFvMogX"
      },
      "source": [
        "parameters_grid = {'C': [0.0001, 0.001, 0.01, 0.005, 0.1, 1]}"
      ],
      "execution_count": 13,
      "outputs": []
    },
    {
      "cell_type": "code",
      "metadata": {
        "id": "BbQnPMLHM-oX"
      },
      "source": [
        "grid_cv = model_selection.GridSearchCV(classifier, parameters_grid)"
      ],
      "execution_count": 14,
      "outputs": []
    },
    {
      "cell_type": "code",
      "metadata": {
        "colab": {
          "base_uri": "https://localhost:8080/"
        },
        "id": "ew5vOjAXNvvl",
        "outputId": "f427bea9-c9f7-4f2b-f967-305ba1052b03"
      },
      "source": [
        "d = dict(zip(list(set(training_topics)), range(len(training_topics))))\n",
        "y_train = [d[key] for key in training_topics]\n",
        "y_train[:5]"
      ],
      "execution_count": 15,
      "outputs": [
        {
          "output_type": "execute_result",
          "data": {
            "text/plain": [
              "[2, 7, 1, 2, 2]"
            ]
          },
          "metadata": {
            "tags": []
          },
          "execution_count": 15
        }
      ]
    },
    {
      "cell_type": "code",
      "metadata": {
        "colab": {
          "base_uri": "https://localhost:8080/"
        },
        "id": "guqoYn4PNSr2",
        "outputId": "7cb08466-9897-47e8-8d0c-e0142f6c2ba8"
      },
      "source": [
        "%%time\n",
        "grid_cv.fit(X_train, y_train)"
      ],
      "execution_count": 16,
      "outputs": [
        {
          "output_type": "stream",
          "text": [
            "CPU times: user 4min 14s, sys: 2min 37s, total: 6min 52s\n",
            "Wall time: 3min 33s\n"
          ],
          "name": "stdout"
        },
        {
          "output_type": "execute_result",
          "data": {
            "text/plain": [
              "GridSearchCV(cv=None, error_score=nan,\n",
              "             estimator=LogisticRegression(C=1.0, class_weight=None, dual=False,\n",
              "                                          fit_intercept=True,\n",
              "                                          intercept_scaling=1, l1_ratio=None,\n",
              "                                          max_iter=10000, multi_class='auto',\n",
              "                                          n_jobs=None, penalty='l2',\n",
              "                                          random_state=None, solver='lbfgs',\n",
              "                                          tol=0.0001, verbose=0,\n",
              "                                          warm_start=False),\n",
              "             iid='deprecated', n_jobs=None,\n",
              "             param_grid={'C': [0.0001, 0.001, 0.01, 0.005, 0.1, 1]},\n",
              "             pre_dispatch='2*n_jobs', refit=True, return_train_score=False,\n",
              "             scoring=None, verbose=0)"
            ]
          },
          "metadata": {
            "tags": []
          },
          "execution_count": 16
        }
      ]
    },
    {
      "cell_type": "code",
      "metadata": {
        "colab": {
          "base_uri": "https://localhost:8080/"
        },
        "id": "2KOQt-5pVcHd",
        "outputId": "92e7eb33-878c-4630-e59a-515621ff08fe"
      },
      "source": [
        "print(grid_cv.best_params_)\n",
        "grid_cv.best_estimator_"
      ],
      "execution_count": 17,
      "outputs": [
        {
          "output_type": "stream",
          "text": [
            "{'C': 1}\n"
          ],
          "name": "stdout"
        },
        {
          "output_type": "execute_result",
          "data": {
            "text/plain": [
              "LogisticRegression(C=1, class_weight=None, dual=False, fit_intercept=True,\n",
              "                   intercept_scaling=1, l1_ratio=None, max_iter=10000,\n",
              "                   multi_class='auto', n_jobs=None, penalty='l2',\n",
              "                   random_state=None, solver='lbfgs', tol=0.0001, verbose=0,\n",
              "                   warm_start=False)"
            ]
          },
          "metadata": {
            "tags": []
          },
          "execution_count": 17
        }
      ]
    },
    {
      "cell_type": "code",
      "metadata": {
        "id": "tKyNeTynV5Yb"
      },
      "source": [
        "lines = list(open('./news_test.txt', 'r', encoding='utf-8'))"
      ],
      "execution_count": 18,
      "outputs": []
    },
    {
      "cell_type": "code",
      "metadata": {
        "colab": {
          "base_uri": "https://localhost:8080/"
        },
        "id": "eXtJkSnmV7lk",
        "outputId": "345e610b-b741-432b-bb86-97243d9329f2"
      },
      "source": [
        "testing_topics = []\n",
        "testing_text = []\n",
        "\n",
        "for line in lines:\n",
        "    lines_split = line.split('\\t')\n",
        "    testing_topics.append(lines_split[0])\n",
        "    testing_titles = lines_split[1]\n",
        "    testing_sentences = lines_split[2]\n",
        "    testing_text.append(testing_titles + testing_sentences)\n",
        "words_test = []\n",
        "for item in testing_text:\n",
        "    words_test.append(re.sub('[^а-я ]', '', item.replace('.', ' ').lower()).split())\n",
        "for i, line in enumerate(words_test):\n",
        "    for j, word in enumerate(line):\n",
        "        p = morph.parse(word)[0]\n",
        "        words_test[i][j] = p.normal_form\n",
        "\n",
        "X_test = vector.transform(words_test) \n",
        "\n",
        "y_test = [d[key] for key in testing_topics]\n",
        "y_test[:5]"
      ],
      "execution_count": 19,
      "outputs": [
        {
          "output_type": "execute_result",
          "data": {
            "text/plain": [
              "[1, 9, 9, 0, 1]"
            ]
          },
          "metadata": {
            "tags": []
          },
          "execution_count": 19
        }
      ]
    },
    {
      "cell_type": "code",
      "metadata": {
        "colab": {
          "base_uri": "https://localhost:8080/",
          "height": 100
        },
        "id": "ZL2C0XnmPvPw",
        "outputId": "6e324a83-de34-4925-c3b6-5f0fed989a46"
      },
      "source": [
        "y_pred = grid_cv.best_estimator_.predict(X_test)\n",
        "classification_report(y_test, y_pred, target_names = d.keys())"
      ],
      "execution_count": 20,
      "outputs": [
        {
          "output_type": "execute_result",
          "data": {
            "application/vnd.google.colaboratory.intrinsic+json": {
              "type": "string"
            },
            "text/plain": [
              "'              precision    recall  f1-score   support\\n\\n    business       0.72      0.32      0.45        90\\n     culture       0.92      0.92      0.92       426\\n       sport       0.97      0.97      0.97       423\\n   economics       0.85      0.92      0.88       426\\n      travel       0.94      0.63      0.76        54\\n       style       0.88      0.71      0.79        52\\n      forces       0.79      0.88      0.84       245\\n     science       0.90      0.85      0.87       466\\n        life       0.83      0.90      0.86       415\\n       media       0.83      0.87      0.85       403\\n\\n    accuracy                           0.87      3000\\n   macro avg       0.87      0.80      0.82      3000\\nweighted avg       0.87      0.87      0.87      3000\\n'"
            ]
          },
          "metadata": {
            "tags": []
          },
          "execution_count": 20
        }
      ]
    },
    {
      "cell_type": "code",
      "metadata": {
        "colab": {
          "base_uri": "https://localhost:8080/"
        },
        "id": "H0fNy_jUa0Ch",
        "outputId": "49d25e7a-0400-4d3a-c389-36943bdd0ac2"
      },
      "source": [
        "classifier = MultinomialNB() \n",
        "classifier.get_params().keys()  "
      ],
      "execution_count": 21,
      "outputs": [
        {
          "output_type": "execute_result",
          "data": {
            "text/plain": [
              "dict_keys(['alpha', 'class_prior', 'fit_prior'])"
            ]
          },
          "metadata": {
            "tags": []
          },
          "execution_count": 21
        }
      ]
    },
    {
      "cell_type": "code",
      "metadata": {
        "id": "1iao-LrFN9hl"
      },
      "source": [
        "parameters_grid = {'alpha': [0, 0.01, 0.1, 1]}"
      ],
      "execution_count": 22,
      "outputs": []
    },
    {
      "cell_type": "code",
      "metadata": {
        "id": "YzB2tGDkOPlt"
      },
      "source": [
        "grid_cv = model_selection.GridSearchCV(classifier, parameters_grid)"
      ],
      "execution_count": 23,
      "outputs": []
    },
    {
      "cell_type": "code",
      "metadata": {
        "colab": {
          "base_uri": "https://localhost:8080/"
        },
        "id": "rK9LK8rCOQkq",
        "outputId": "38bc2aa5-6894-4e41-f287-636881dbf2c0"
      },
      "source": [
        "%%time\n",
        "grid_cv.fit(X_train, y_train)"
      ],
      "execution_count": 24,
      "outputs": [
        {
          "output_type": "stream",
          "text": [
            "/usr/local/lib/python3.6/dist-packages/sklearn/naive_bayes.py:507: UserWarning: alpha too small will result in numeric errors, setting alpha = 1.0e-10\n",
            "  'setting alpha = %.1e' % _ALPHA_MIN)\n",
            "/usr/local/lib/python3.6/dist-packages/sklearn/naive_bayes.py:507: UserWarning: alpha too small will result in numeric errors, setting alpha = 1.0e-10\n",
            "  'setting alpha = %.1e' % _ALPHA_MIN)\n",
            "/usr/local/lib/python3.6/dist-packages/sklearn/naive_bayes.py:507: UserWarning: alpha too small will result in numeric errors, setting alpha = 1.0e-10\n",
            "  'setting alpha = %.1e' % _ALPHA_MIN)\n",
            "/usr/local/lib/python3.6/dist-packages/sklearn/naive_bayes.py:507: UserWarning: alpha too small will result in numeric errors, setting alpha = 1.0e-10\n",
            "  'setting alpha = %.1e' % _ALPHA_MIN)\n",
            "/usr/local/lib/python3.6/dist-packages/sklearn/naive_bayes.py:507: UserWarning: alpha too small will result in numeric errors, setting alpha = 1.0e-10\n",
            "  'setting alpha = %.1e' % _ALPHA_MIN)\n"
          ],
          "name": "stderr"
        },
        {
          "output_type": "stream",
          "text": [
            "CPU times: user 1.23 s, sys: 35.8 ms, total: 1.27 s\n",
            "Wall time: 1.27 s\n"
          ],
          "name": "stdout"
        },
        {
          "output_type": "execute_result",
          "data": {
            "text/plain": [
              "GridSearchCV(cv=None, error_score=nan,\n",
              "             estimator=MultinomialNB(alpha=1.0, class_prior=None,\n",
              "                                     fit_prior=True),\n",
              "             iid='deprecated', n_jobs=None,\n",
              "             param_grid={'alpha': [0, 0.01, 0.1, 1]}, pre_dispatch='2*n_jobs',\n",
              "             refit=True, return_train_score=False, scoring=None, verbose=0)"
            ]
          },
          "metadata": {
            "tags": []
          },
          "execution_count": 24
        }
      ]
    },
    {
      "cell_type": "code",
      "metadata": {
        "colab": {
          "base_uri": "https://localhost:8080/"
        },
        "id": "OuPeHqz_OSOU",
        "outputId": "76b5fe2d-b693-46c2-8aa3-aa40b1f493f8"
      },
      "source": [
        "print(grid_cv.best_params_)\n",
        "grid_cv.best_estimator_"
      ],
      "execution_count": 25,
      "outputs": [
        {
          "output_type": "stream",
          "text": [
            "{'alpha': 0.01}\n"
          ],
          "name": "stdout"
        },
        {
          "output_type": "execute_result",
          "data": {
            "text/plain": [
              "MultinomialNB(alpha=0.01, class_prior=None, fit_prior=True)"
            ]
          },
          "metadata": {
            "tags": []
          },
          "execution_count": 25
        }
      ]
    },
    {
      "cell_type": "code",
      "metadata": {
        "colab": {
          "base_uri": "https://localhost:8080/",
          "height": 100
        },
        "id": "wHYWWZz_OTox",
        "outputId": "eb37b010-fd53-4144-cd94-137c6f30f175"
      },
      "source": [
        "y_pred = grid_cv.best_estimator_.predict(X_test)\n",
        "classification_report(y_test, y_pred, target_names = d.keys())"
      ],
      "execution_count": 26,
      "outputs": [
        {
          "output_type": "execute_result",
          "data": {
            "application/vnd.google.colaboratory.intrinsic+json": {
              "type": "string"
            },
            "text/plain": [
              "'              precision    recall  f1-score   support\\n\\n    business       0.59      0.40      0.48        90\\n     culture       0.91      0.92      0.92       426\\n       sport       0.98      0.96      0.97       423\\n   economics       0.85      0.89      0.87       426\\n      travel       0.90      0.67      0.77        54\\n       style       0.91      0.83      0.87        52\\n      forces       0.75      0.87      0.80       245\\n     science       0.91      0.76      0.83       466\\n        life       0.81      0.87      0.84       415\\n       media       0.76      0.82      0.79       403\\n\\n    accuracy                           0.85      3000\\n   macro avg       0.84      0.80      0.81      3000\\nweighted avg       0.85      0.85      0.85      3000\\n'"
            ]
          },
          "metadata": {
            "tags": []
          },
          "execution_count": 26
        }
      ]
    }
  ]
}