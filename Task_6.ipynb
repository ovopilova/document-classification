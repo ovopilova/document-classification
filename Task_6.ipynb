{
  "nbformat": 4,
  "nbformat_minor": 0,
  "metadata": {
    "kernelspec": {
      "display_name": "Python 3",
      "language": "python",
      "name": "python3"
    },
    "language_info": {
      "codemirror_mode": {
        "name": "ipython",
        "version": 3
      },
      "file_extension": ".py",
      "mimetype": "text/x-python",
      "name": "python",
      "nbconvert_exporter": "python",
      "pygments_lexer": "ipython3",
      "version": "3.7.4"
    },
    "colab": {
      "name": "Task_6.ipynb",
      "provenance": [],
      "toc_visible": true
    },
    "accelerator": "GPU"
  },
  "cells": [
    {
      "cell_type": "markdown",
      "metadata": {
        "id": "t026XAe_CjdO"
      },
      "source": [
        "## Данные\n",
        "\n",
        "Данные в [архиве](https://drive.google.com/file/d/15o7fdxTgndoy6K-e7g8g1M2-bOOwqZPl/view?usp=sharing). В нём два файла:\n",
        "- `news_train.txt` тренировочное множество\n",
        "- `news_test.txt` тренировочное множество\n",
        "\n",
        "С некоторых новостных сайтов были загружены тексты новостей за период  несколько лет, причем каждая новость принаделжит к какой-то рубрике: `science`, `style`, `culture`, `life`, `economics`, `business`, `travel`, `forces`, `media`, `sport`.\n",
        "\n",
        "В каждой строке файла содержится метка рубрики, заголовок новостной статьи и сам текст статьи, например:\n",
        "\n",
        ">    **sport**&nbsp;&lt;tab&gt;&nbsp;**Сборная Канады по хоккею разгромила чехов**&nbsp;&lt;tab&gt;&nbsp;**Сборная Канады по хоккею крупно об...**"
      ]
    },
    {
      "cell_type": "markdown",
      "metadata": {
        "id": "aVZypLjdCjdO"
      },
      "source": [
        "# Задача\n",
        "\n",
        "1. Обработать данные, получив для каждого текста набор токенов\n",
        "Обработать токены с помощью (один вариант из трех):\n",
        "    - pymorphy2\n",
        "    - русского [snowball стеммера](https://www.nltk.org/howto/stem.html)\n",
        "    - [SentencePiece](https://github.com/google/sentencepiece) или [Huggingface Tokenizers](https://github.com/huggingface/tokenizers)\n",
        "    \n",
        "    \n",
        "2. Обучить word embeddings (fastText, word2vec, gloVe) на тренировочных данных. Можно использовать [gensim](https://radimrehurek.com/gensim/models/word2vec.html) . Продемонстрировать семантические ассоциации. \n",
        "\n",
        "3. Реализовать алгоритм классификации, посчитать точноть на тестовых данных, подобрать гиперпараметры. Метод векторизации выбрать произвольно - можно использовать $tf-idf$ с понижением размерности (см. scikit-learn), можно использовать обученные на предыдущем шаге векторные представления, можно использовать [предобученные модели](https://rusvectores.org/ru/models/). Имейте ввиду, что простое \"усреднение\" токенов в тексте скорее всего не даст положительных результатов. Нужно реализовать два алгоритмов из трех:\n",
        "     - SVM\n",
        "     - наивный байесовский классификатор\n",
        "     - логистическая регрессия\n",
        "    \n",
        "\n",
        "4.* Реализуйте классификацию с помощью нейросетевых моделей. Например [RuBERT](http://docs.deeppavlov.ai/en/master/features/models/bert.html) или [ELMo](https://rusvectores.org/ru/models/)."
      ]
    },
    {
      "cell_type": "markdown",
      "metadata": {
        "id": "Ig_j9nOdCjdO"
      },
      "source": [
        "lines = list(open('./news_train.txt', 'r', encoding='utf-8'))"
      ]
    },
    {
      "cell_type": "code",
      "metadata": {
        "colab": {
          "base_uri": "https://localhost:8080/"
        },
        "id": "-8hk1RtcCjdO",
        "outputId": "4733dc1c-c990-4039-899c-a61d649570ca"
      },
      "source": [
        "!pip install pymorphy2\n",
        "\n",
        "\n",
        "import random\n",
        "from gensim import models\n",
        "from collections import Counter\n",
        "import re\n",
        "import pymorphy2\n",
        "from sklearn.feature_extraction.text import TfidfVectorizer\n",
        "from sklearn.linear_model import  LogisticRegression\n",
        "from sklearn import model_selection\n",
        "import numpy as np\n",
        "from sklearn.metrics import accuracy_score\n",
        "from sklearn.naive_bayes import MultinomialNB\n",
        "lines = list(open('./news_train.txt', 'r', encoding='utf-8'))\n",
        "random.shuffle(lines)"
      ],
      "execution_count": 1,
      "outputs": [
        {
          "output_type": "stream",
          "text": [
            "Requirement already satisfied: pymorphy2 in /usr/local/lib/python3.6/dist-packages (0.9.1)\n",
            "Requirement already satisfied: pymorphy2-dicts-ru<3.0,>=2.4 in /usr/local/lib/python3.6/dist-packages (from pymorphy2) (2.4.417127.4579844)\n",
            "Requirement already satisfied: dawg-python>=0.7.1 in /usr/local/lib/python3.6/dist-packages (from pymorphy2) (0.7.2)\n",
            "Requirement already satisfied: docopt>=0.6 in /usr/local/lib/python3.6/dist-packages (from pymorphy2) (0.6.2)\n"
          ],
          "name": "stdout"
        }
      ]
    },
    {
      "cell_type": "code",
      "metadata": {
        "colab": {
          "base_uri": "https://localhost:8080/"
        },
        "id": "RLS9O3sHCjdP",
        "outputId": "741b63de-cad0-460c-ef8c-e9efb9401138"
      },
      "source": [
        "Counter([line.split('\\t')[0] for line in lines[:15000]])"
      ],
      "execution_count": 2,
      "outputs": [
        {
          "output_type": "execute_result",
          "data": {
            "text/plain": [
              "Counter({'business': 554,\n",
              "         'culture': 2053,\n",
              "         'economics': 2080,\n",
              "         'forces': 1225,\n",
              "         'life': 2033,\n",
              "         'media': 2111,\n",
              "         'science': 2156,\n",
              "         'sport': 2215,\n",
              "         'style': 284,\n",
              "         'travel': 289})"
            ]
          },
          "metadata": {
            "tags": []
          },
          "execution_count": 2
        }
      ]
    },
    {
      "cell_type": "code",
      "metadata": {
        "id": "cGYxBJqJCjdQ"
      },
      "source": [
        "training_topics = []\n",
        "training_text = []\n",
        "\n",
        "for line in lines:\n",
        "    lines_split = line.split('\\t')\n",
        "    training_topics.append(lines_split[0])\n",
        "    training_titles = lines_split[1] \n",
        "    training_sentences = lines_split[2]\n",
        "    training_text.append(training_titles + ' ' + training_sentences)"
      ],
      "execution_count": 3,
      "outputs": []
    },
    {
      "cell_type": "code",
      "metadata": {
        "id": "oPJVTa7VCjdQ"
      },
      "source": [
        "morph = pymorphy2.MorphAnalyzer()"
      ],
      "execution_count": 4,
      "outputs": []
    },
    {
      "cell_type": "code",
      "metadata": {
        "id": "ERgqsdSdCjdR"
      },
      "source": [
        "words = []\n",
        "for item in training_text:\n",
        "    words.append(re.sub('[^а-я ]', '', item.replace('.', ' ').lower()).split())"
      ],
      "execution_count": 5,
      "outputs": []
    },
    {
      "cell_type": "markdown",
      "metadata": {
        "id": "HKdDLJcxCjdR"
      },
      "source": [
        "Посмотрим, что мы имеем:"
      ]
    },
    {
      "cell_type": "code",
      "metadata": {
        "colab": {
          "base_uri": "https://localhost:8080/",
          "height": 132
        },
        "id": "MotjVIKQCjdR",
        "outputId": "e9780788-ca0c-4b78-ef0b-113d73c2f069"
      },
      "source": [
        "training_text[0]"
      ],
      "execution_count": 6,
      "outputs": [
        {
          "output_type": "execute_result",
          "data": {
            "application/vnd.google.colaboratory.intrinsic+json": {
              "type": "string"
            },
            "text/plain": [
              "'Ростовский институт ракетных войск пройдет реорганизацию На базе Ростовского военного института ракетных войск (РАУ), закрытого в 2011 году в рамках реформы вооруженных сил, может быть создан новый военный вуз. С таким заявлением, как передает РИА Новости, выступил заместитель губернатора Ростовской области Вадим Артемов.По словам Артемова, губернатор области Василий Голубев обращался к министру обороны Анатолию Сердюкову с просьбой передать часть земель РАУ Южному федеральному университету. В Минобороны губернатору отказали, пояснив, что территория вуза в дальнейшем будет использоваться по назначению.Кроме того, как рассказал агентству Артемов, Василий Голубев обращался к Сердюкову с просьбой передать часть территории также закрывшегося Новочеркасского высшего военного командного училища связи под кадетский корпус. Пошел ли министр на встречу ростовскому губернатору в этом вопросе, не уточняется.В рамках военной реформы 2008 года Минобороны планировало на базе 65 военных вузов 10 научных центров с \"абсолютно новой технической базой\".Одними из основных целей реформы также стало двукратное сокращение офицерского состава (с 300 до 150) и реорганизация системы управления Вооруженными силами. Согласно реформе, войска перешли от четырехзвенной системы управления \"военный округ\" - \"армия\" - \"дивизия\" - \"полк\" к трехзвенной \"военный округ\" - \"оперативное командование\" - \"бригада\". Количество военных округов сократилось до четырех - Западного, Южного, Центрального и Восточного.\\n'"
            ]
          },
          "metadata": {
            "tags": []
          },
          "execution_count": 6
        }
      ]
    },
    {
      "cell_type": "code",
      "metadata": {
        "colab": {
          "base_uri": "https://localhost:8080/"
        },
        "id": "brpM9oFJCjdR",
        "outputId": "c329da4f-f1d3-4652-ec3a-c95fa9810bb9"
      },
      "source": [
        "words[0]"
      ],
      "execution_count": 7,
      "outputs": [
        {
          "output_type": "execute_result",
          "data": {
            "text/plain": [
              "['ростовский',\n",
              " 'институт',\n",
              " 'ракетных',\n",
              " 'войск',\n",
              " 'пройдет',\n",
              " 'реорганизацию',\n",
              " 'на',\n",
              " 'базе',\n",
              " 'ростовского',\n",
              " 'военного',\n",
              " 'института',\n",
              " 'ракетных',\n",
              " 'войск',\n",
              " 'рау',\n",
              " 'закрытого',\n",
              " 'в',\n",
              " 'году',\n",
              " 'в',\n",
              " 'рамках',\n",
              " 'реформы',\n",
              " 'вооруженных',\n",
              " 'сил',\n",
              " 'может',\n",
              " 'быть',\n",
              " 'создан',\n",
              " 'новый',\n",
              " 'военный',\n",
              " 'вуз',\n",
              " 'с',\n",
              " 'таким',\n",
              " 'заявлением',\n",
              " 'как',\n",
              " 'передает',\n",
              " 'риа',\n",
              " 'новости',\n",
              " 'выступил',\n",
              " 'заместитель',\n",
              " 'губернатора',\n",
              " 'ростовской',\n",
              " 'области',\n",
              " 'вадим',\n",
              " 'артемов',\n",
              " 'по',\n",
              " 'словам',\n",
              " 'артемова',\n",
              " 'губернатор',\n",
              " 'области',\n",
              " 'василий',\n",
              " 'голубев',\n",
              " 'обращался',\n",
              " 'к',\n",
              " 'министру',\n",
              " 'обороны',\n",
              " 'анатолию',\n",
              " 'сердюкову',\n",
              " 'с',\n",
              " 'просьбой',\n",
              " 'передать',\n",
              " 'часть',\n",
              " 'земель',\n",
              " 'рау',\n",
              " 'южному',\n",
              " 'федеральному',\n",
              " 'университету',\n",
              " 'в',\n",
              " 'минобороны',\n",
              " 'губернатору',\n",
              " 'отказали',\n",
              " 'пояснив',\n",
              " 'что',\n",
              " 'территория',\n",
              " 'вуза',\n",
              " 'в',\n",
              " 'дальнейшем',\n",
              " 'будет',\n",
              " 'использоваться',\n",
              " 'по',\n",
              " 'назначению',\n",
              " 'кроме',\n",
              " 'того',\n",
              " 'как',\n",
              " 'рассказал',\n",
              " 'агентству',\n",
              " 'артемов',\n",
              " 'василий',\n",
              " 'голубев',\n",
              " 'обращался',\n",
              " 'к',\n",
              " 'сердюкову',\n",
              " 'с',\n",
              " 'просьбой',\n",
              " 'передать',\n",
              " 'часть',\n",
              " 'территории',\n",
              " 'также',\n",
              " 'закрывшегося',\n",
              " 'новочеркасского',\n",
              " 'высшего',\n",
              " 'военного',\n",
              " 'командного',\n",
              " 'училища',\n",
              " 'связи',\n",
              " 'под',\n",
              " 'кадетский',\n",
              " 'корпус',\n",
              " 'пошел',\n",
              " 'ли',\n",
              " 'министр',\n",
              " 'на',\n",
              " 'встречу',\n",
              " 'ростовскому',\n",
              " 'губернатору',\n",
              " 'в',\n",
              " 'этом',\n",
              " 'вопросе',\n",
              " 'не',\n",
              " 'уточняется',\n",
              " 'в',\n",
              " 'рамках',\n",
              " 'военной',\n",
              " 'реформы',\n",
              " 'года',\n",
              " 'минобороны',\n",
              " 'планировало',\n",
              " 'на',\n",
              " 'базе',\n",
              " 'военных',\n",
              " 'вузов',\n",
              " 'научных',\n",
              " 'центров',\n",
              " 'с',\n",
              " 'абсолютно',\n",
              " 'новой',\n",
              " 'технической',\n",
              " 'базой',\n",
              " 'одними',\n",
              " 'из',\n",
              " 'основных',\n",
              " 'целей',\n",
              " 'реформы',\n",
              " 'также',\n",
              " 'стало',\n",
              " 'двукратное',\n",
              " 'сокращение',\n",
              " 'офицерского',\n",
              " 'состава',\n",
              " 'с',\n",
              " 'до',\n",
              " 'и',\n",
              " 'реорганизация',\n",
              " 'системы',\n",
              " 'управления',\n",
              " 'вооруженными',\n",
              " 'силами',\n",
              " 'согласно',\n",
              " 'реформе',\n",
              " 'войска',\n",
              " 'перешли',\n",
              " 'от',\n",
              " 'четырехзвенной',\n",
              " 'системы',\n",
              " 'управления',\n",
              " 'военный',\n",
              " 'округ',\n",
              " 'армия',\n",
              " 'дивизия',\n",
              " 'полк',\n",
              " 'к',\n",
              " 'трехзвенной',\n",
              " 'военный',\n",
              " 'округ',\n",
              " 'оперативное',\n",
              " 'командование',\n",
              " 'бригада',\n",
              " 'количество',\n",
              " 'военных',\n",
              " 'округов',\n",
              " 'сократилось',\n",
              " 'до',\n",
              " 'четырех',\n",
              " 'западного',\n",
              " 'южного',\n",
              " 'центрального',\n",
              " 'и',\n",
              " 'восточного']"
            ]
          },
          "metadata": {
            "tags": []
          },
          "execution_count": 7
        }
      ]
    },
    {
      "cell_type": "code",
      "metadata": {
        "id": "QtJOloOYCjdR"
      },
      "source": [
        "for i, line in enumerate(words):\n",
        "    for j, word in enumerate(line):\n",
        "        p = morph.parse(word)[0]\n",
        "        words[i][j] = p.normal_form"
      ],
      "execution_count": 8,
      "outputs": []
    },
    {
      "cell_type": "code",
      "metadata": {
        "colab": {
          "base_uri": "https://localhost:8080/"
        },
        "id": "PZDkjLK9CjdR",
        "outputId": "3f7d032e-0443-40ea-f234-fca1810b1022"
      },
      "source": [
        "words[0]"
      ],
      "execution_count": 9,
      "outputs": [
        {
          "output_type": "execute_result",
          "data": {
            "text/plain": [
              "['ростовский',\n",
              " 'институт',\n",
              " 'ракетный',\n",
              " 'войско',\n",
              " 'пройти',\n",
              " 'реорганизация',\n",
              " 'на',\n",
              " 'база',\n",
              " 'ростовский',\n",
              " 'военный',\n",
              " 'институт',\n",
              " 'ракетный',\n",
              " 'войско',\n",
              " 'рау',\n",
              " 'закрытый',\n",
              " 'в',\n",
              " 'год',\n",
              " 'в',\n",
              " 'рамка',\n",
              " 'реформа',\n",
              " 'вооружённый',\n",
              " 'сила',\n",
              " 'мочь',\n",
              " 'быть',\n",
              " 'создать',\n",
              " 'новый',\n",
              " 'военный',\n",
              " 'вуз',\n",
              " 'с',\n",
              " 'такой',\n",
              " 'заявление',\n",
              " 'как',\n",
              " 'передавать',\n",
              " 'риа',\n",
              " 'новость',\n",
              " 'выступить',\n",
              " 'заместитель',\n",
              " 'губернатор',\n",
              " 'ростовский',\n",
              " 'область',\n",
              " 'вадим',\n",
              " 'артём',\n",
              " 'по',\n",
              " 'слово',\n",
              " 'артёмов',\n",
              " 'губернатор',\n",
              " 'область',\n",
              " 'василий',\n",
              " 'голубеть',\n",
              " 'обращаться',\n",
              " 'к',\n",
              " 'министр',\n",
              " 'оборона',\n",
              " 'анатолий',\n",
              " 'сердюков',\n",
              " 'с',\n",
              " 'просьба',\n",
              " 'передать',\n",
              " 'часть',\n",
              " 'земля',\n",
              " 'рау',\n",
              " 'южный',\n",
              " 'федеральный',\n",
              " 'университет',\n",
              " 'в',\n",
              " 'минобороны',\n",
              " 'губернатор',\n",
              " 'отказать',\n",
              " 'пояснить',\n",
              " 'что',\n",
              " 'территория',\n",
              " 'вуз',\n",
              " 'в',\n",
              " 'дальнейший',\n",
              " 'быть',\n",
              " 'использоваться',\n",
              " 'по',\n",
              " 'назначение',\n",
              " 'кроме',\n",
              " 'тот',\n",
              " 'как',\n",
              " 'рассказать',\n",
              " 'агентство',\n",
              " 'артём',\n",
              " 'василий',\n",
              " 'голубеть',\n",
              " 'обращаться',\n",
              " 'к',\n",
              " 'сердюков',\n",
              " 'с',\n",
              " 'просьба',\n",
              " 'передать',\n",
              " 'часть',\n",
              " 'территория',\n",
              " 'также',\n",
              " 'закрыться',\n",
              " 'новочеркасский',\n",
              " 'высокий',\n",
              " 'военный',\n",
              " 'командный',\n",
              " 'училище',\n",
              " 'связь',\n",
              " 'под',\n",
              " 'кадетский',\n",
              " 'корпус',\n",
              " 'пойти',\n",
              " 'ли',\n",
              " 'министр',\n",
              " 'на',\n",
              " 'встреча',\n",
              " 'ростовский',\n",
              " 'губернатор',\n",
              " 'в',\n",
              " 'это',\n",
              " 'вопрос',\n",
              " 'не',\n",
              " 'уточняться',\n",
              " 'в',\n",
              " 'рамка',\n",
              " 'военный',\n",
              " 'реформа',\n",
              " 'год',\n",
              " 'минобороны',\n",
              " 'планировать',\n",
              " 'на',\n",
              " 'база',\n",
              " 'военный',\n",
              " 'вуз',\n",
              " 'научный',\n",
              " 'центр',\n",
              " 'с',\n",
              " 'абсолютно',\n",
              " 'новый',\n",
              " 'технический',\n",
              " 'база',\n",
              " 'один',\n",
              " 'из',\n",
              " 'основный',\n",
              " 'цель',\n",
              " 'реформа',\n",
              " 'также',\n",
              " 'стать',\n",
              " 'двукратный',\n",
              " 'сокращение',\n",
              " 'офицерский',\n",
              " 'состав',\n",
              " 'с',\n",
              " 'до',\n",
              " 'и',\n",
              " 'реорганизация',\n",
              " 'система',\n",
              " 'управление',\n",
              " 'вооружённый',\n",
              " 'сила',\n",
              " 'согласно',\n",
              " 'реформа',\n",
              " 'войско',\n",
              " 'переслать',\n",
              " 'от',\n",
              " 'четырехзвенный',\n",
              " 'система',\n",
              " 'управление',\n",
              " 'военный',\n",
              " 'округ',\n",
              " 'армия',\n",
              " 'дивизия',\n",
              " 'полк',\n",
              " 'к',\n",
              " 'трехзвенный',\n",
              " 'военный',\n",
              " 'округ',\n",
              " 'оперативный',\n",
              " 'командование',\n",
              " 'бригада',\n",
              " 'количество',\n",
              " 'военный',\n",
              " 'округ',\n",
              " 'сократиться',\n",
              " 'до',\n",
              " 'четыре',\n",
              " 'западный',\n",
              " 'южный',\n",
              " 'центральный',\n",
              " 'и',\n",
              " 'восточный']"
            ]
          },
          "metadata": {
            "tags": []
          },
          "execution_count": 9
        }
      ]
    },
    {
      "cell_type": "code",
      "metadata": {
        "colab": {
          "base_uri": "https://localhost:8080/"
        },
        "id": "LjSRkbxtCjdS",
        "outputId": "e50a7416-ad6f-421a-f94e-d7fff716dbbd"
      },
      "source": [
        "model = models.Word2Vec(min_count = 1, alpha = 0.01, min_alpha = 0.0001, workers = 3)\n",
        "model.build_vocab(words)\n",
        "model.train(words, total_examples = model.corpus_count, epochs = 50)\n",
        "model.wv.most_similar('спорт')"
      ],
      "execution_count": 10,
      "outputs": [
        {
          "output_type": "stream",
          "text": [
            "/usr/local/lib/python3.6/dist-packages/gensim/matutils.py:737: FutureWarning: Conversion of the second argument of issubdtype from `int` to `np.signedinteger` is deprecated. In future, it will be treated as `np.int64 == np.dtype(int).type`.\n",
            "  if np.issubdtype(vec.dtype, np.int):\n"
          ],
          "name": "stderr"
        },
        {
          "output_type": "execute_result",
          "data": {
            "text/plain": [
              "[('мутко', 0.5563048124313354),\n",
              " ('футбол', 0.5459227561950684),\n",
              " ('рспорт', 0.5343116521835327),\n",
              " ('самбо', 0.5237361192703247),\n",
              " ('баскетбол', 0.519648551940918),\n",
              " ('культура', 0.5051917433738708),\n",
              " ('пкр', 0.4898017644882202),\n",
              " ('спортивный', 0.4810803532600403),\n",
              " ('волейбол', 0.4804432988166809),\n",
              " ('дзюдо', 0.4772310256958008)]"
            ]
          },
          "metadata": {
            "tags": []
          },
          "execution_count": 10
        }
      ]
    },
    {
      "cell_type": "code",
      "metadata": {
        "id": "31VJtQxuCjdS"
      },
      "source": [
        "vector = TfidfVectorizer(preprocessor=' '.join) \n",
        "X_train = vector.fit_transform(words) "
      ],
      "execution_count": 11,
      "outputs": []
    },
    {
      "cell_type": "code",
      "metadata": {
        "colab": {
          "base_uri": "https://localhost:8080/"
        },
        "id": "6HsZiezDMixl",
        "outputId": "179e7148-497d-4248-fc00-56dba447c84c"
      },
      "source": [
        "classifier = LogisticRegression(max_iter = 10000)\n",
        "classifier.get_params().keys()"
      ],
      "execution_count": 12,
      "outputs": [
        {
          "output_type": "execute_result",
          "data": {
            "text/plain": [
              "dict_keys(['C', 'class_weight', 'dual', 'fit_intercept', 'intercept_scaling', 'l1_ratio', 'max_iter', 'multi_class', 'n_jobs', 'penalty', 'random_state', 'solver', 'tol', 'verbose', 'warm_start'])"
            ]
          },
          "metadata": {
            "tags": []
          },
          "execution_count": 12
        }
      ]
    },
    {
      "cell_type": "code",
      "metadata": {
        "id": "UTwilpFvMogX"
      },
      "source": [
        "parameters_grid = {'C': [0.0001, 0.001, 0.01, 0.005, 0.1, 1]}"
      ],
      "execution_count": 13,
      "outputs": []
    },
    {
      "cell_type": "code",
      "metadata": {
        "id": "BbQnPMLHM-oX"
      },
      "source": [
        "grid_cv = model_selection.GridSearchCV(classifier, parameters_grid)"
      ],
      "execution_count": 14,
      "outputs": []
    },
    {
      "cell_type": "code",
      "metadata": {
        "colab": {
          "base_uri": "https://localhost:8080/"
        },
        "id": "ew5vOjAXNvvl",
        "outputId": "c3d6e097-bc72-48bb-99d1-9a573d80a21b"
      },
      "source": [
        "d = dict(zip(list(set(training_topics)), range(len(training_topics))))\n",
        "y_train = [d[key] for key in training_topics]\n",
        "y_train[:5]"
      ],
      "execution_count": 15,
      "outputs": [
        {
          "output_type": "execute_result",
          "data": {
            "text/plain": [
              "[8, 9, 1, 9, 6]"
            ]
          },
          "metadata": {
            "tags": []
          },
          "execution_count": 15
        }
      ]
    },
    {
      "cell_type": "code",
      "metadata": {
        "colab": {
          "base_uri": "https://localhost:8080/"
        },
        "id": "guqoYn4PNSr2",
        "outputId": "aa39d7db-ea05-4dd2-f40e-5385027e31be"
      },
      "source": [
        "%%time\n",
        "grid_cv.fit(X_train, y_train)"
      ],
      "execution_count": 16,
      "outputs": [
        {
          "output_type": "stream",
          "text": [
            "CPU times: user 4min 16s, sys: 2min 35s, total: 6min 52s\n",
            "Wall time: 3min 33s\n"
          ],
          "name": "stdout"
        },
        {
          "output_type": "execute_result",
          "data": {
            "text/plain": [
              "GridSearchCV(cv=None, error_score=nan,\n",
              "             estimator=LogisticRegression(C=1.0, class_weight=None, dual=False,\n",
              "                                          fit_intercept=True,\n",
              "                                          intercept_scaling=1, l1_ratio=None,\n",
              "                                          max_iter=10000, multi_class='auto',\n",
              "                                          n_jobs=None, penalty='l2',\n",
              "                                          random_state=None, solver='lbfgs',\n",
              "                                          tol=0.0001, verbose=0,\n",
              "                                          warm_start=False),\n",
              "             iid='deprecated', n_jobs=None,\n",
              "             param_grid={'C': [0.0001, 0.001, 0.01, 0.005, 0.1, 1]},\n",
              "             pre_dispatch='2*n_jobs', refit=True, return_train_score=False,\n",
              "             scoring=None, verbose=0)"
            ]
          },
          "metadata": {
            "tags": []
          },
          "execution_count": 16
        }
      ]
    },
    {
      "cell_type": "code",
      "metadata": {
        "colab": {
          "base_uri": "https://localhost:8080/"
        },
        "id": "2KOQt-5pVcHd",
        "outputId": "7f35f731-d72b-446b-9bbe-f395987540cb"
      },
      "source": [
        "print(grid_cv.best_params_)\n",
        "grid_cv.best_estimator_"
      ],
      "execution_count": 17,
      "outputs": [
        {
          "output_type": "stream",
          "text": [
            "{'C': 1}\n"
          ],
          "name": "stdout"
        },
        {
          "output_type": "execute_result",
          "data": {
            "text/plain": [
              "LogisticRegression(C=1, class_weight=None, dual=False, fit_intercept=True,\n",
              "                   intercept_scaling=1, l1_ratio=None, max_iter=10000,\n",
              "                   multi_class='auto', n_jobs=None, penalty='l2',\n",
              "                   random_state=None, solver='lbfgs', tol=0.0001, verbose=0,\n",
              "                   warm_start=False)"
            ]
          },
          "metadata": {
            "tags": []
          },
          "execution_count": 17
        }
      ]
    },
    {
      "cell_type": "code",
      "metadata": {
        "id": "tKyNeTynV5Yb"
      },
      "source": [
        "lines = list(open('./news_test.txt', 'r', encoding='utf-8'))"
      ],
      "execution_count": 18,
      "outputs": []
    },
    {
      "cell_type": "code",
      "metadata": {
        "colab": {
          "base_uri": "https://localhost:8080/"
        },
        "id": "eXtJkSnmV7lk",
        "outputId": "02bfe16b-85c4-45e9-a5a5-b12474382b61"
      },
      "source": [
        "testing_topics = []\n",
        "testing_text = []\n",
        "\n",
        "for line in lines:\n",
        "    lines_split = line.split('\\t')\n",
        "    testing_topics.append(lines_split[0])\n",
        "    testing_titles = lines_split[1]\n",
        "    testing_sentences = lines_split[2]\n",
        "    testing_text.append(testing_titles + testing_sentences)\n",
        "words_test = []\n",
        "for item in testing_text:\n",
        "    words_test.append(re.sub('[^а-я ]', '', item.replace('.', ' ').lower()).split())\n",
        "for i, line in enumerate(words_test):\n",
        "    for j, word in enumerate(line):\n",
        "        p = morph.parse(word)[0]\n",
        "        words_test[i][j] = p.normal_form\n",
        "\n",
        "X_test = vector.transform(words_test) \n",
        "\n",
        "y_test = [d[key] for key in testing_topics]\n",
        "y_test[:5]"
      ],
      "execution_count": 19,
      "outputs": [
        {
          "output_type": "execute_result",
          "data": {
            "text/plain": [
              "[3, 4, 4, 7, 3]"
            ]
          },
          "metadata": {
            "tags": []
          },
          "execution_count": 19
        }
      ]
    },
    {
      "cell_type": "code",
      "metadata": {
        "colab": {
          "base_uri": "https://localhost:8080/"
        },
        "id": "ZL2C0XnmPvPw",
        "outputId": "36d8bf7f-6710-421d-a776-06a50f4f77c1"
      },
      "source": [
        "y_pred = grid_cv.best_estimator_.predict(X_test)\n",
        "accuracy_score(y_test, y_pred)"
      ],
      "execution_count": 20,
      "outputs": [
        {
          "output_type": "execute_result",
          "data": {
            "text/plain": [
              "0.8746666666666667"
            ]
          },
          "metadata": {
            "tags": []
          },
          "execution_count": 20
        }
      ]
    },
    {
      "cell_type": "code",
      "metadata": {
        "colab": {
          "base_uri": "https://localhost:8080/"
        },
        "id": "H0fNy_jUa0Ch",
        "outputId": "56825565-a0cd-40dc-f9a7-b7d98c51945b"
      },
      "source": [
        "classifier = MultinomialNB() \n",
        "classifier.get_params().keys()  "
      ],
      "execution_count": 21,
      "outputs": [
        {
          "output_type": "execute_result",
          "data": {
            "text/plain": [
              "dict_keys(['alpha', 'class_prior', 'fit_prior'])"
            ]
          },
          "metadata": {
            "tags": []
          },
          "execution_count": 21
        }
      ]
    },
    {
      "cell_type": "code",
      "metadata": {
        "id": "1iao-LrFN9hl"
      },
      "source": [
        "parameters_grid = {'alpha': [0, 0.01, 0.1, 1]}"
      ],
      "execution_count": 22,
      "outputs": []
    },
    {
      "cell_type": "code",
      "metadata": {
        "id": "YzB2tGDkOPlt"
      },
      "source": [
        "grid_cv = model_selection.GridSearchCV(classifier, parameters_grid)"
      ],
      "execution_count": 23,
      "outputs": []
    },
    {
      "cell_type": "code",
      "metadata": {
        "colab": {
          "base_uri": "https://localhost:8080/"
        },
        "id": "rK9LK8rCOQkq",
        "outputId": "24e968cf-f3d9-4e1a-adfd-6e36a9d9e046"
      },
      "source": [
        "%%time\n",
        "grid_cv.fit(X_train, y_train)"
      ],
      "execution_count": 24,
      "outputs": [
        {
          "output_type": "stream",
          "text": [
            "/usr/local/lib/python3.6/dist-packages/sklearn/naive_bayes.py:507: UserWarning: alpha too small will result in numeric errors, setting alpha = 1.0e-10\n",
            "  'setting alpha = %.1e' % _ALPHA_MIN)\n",
            "/usr/local/lib/python3.6/dist-packages/sklearn/naive_bayes.py:507: UserWarning: alpha too small will result in numeric errors, setting alpha = 1.0e-10\n",
            "  'setting alpha = %.1e' % _ALPHA_MIN)\n",
            "/usr/local/lib/python3.6/dist-packages/sklearn/naive_bayes.py:507: UserWarning: alpha too small will result in numeric errors, setting alpha = 1.0e-10\n",
            "  'setting alpha = %.1e' % _ALPHA_MIN)\n",
            "/usr/local/lib/python3.6/dist-packages/sklearn/naive_bayes.py:507: UserWarning: alpha too small will result in numeric errors, setting alpha = 1.0e-10\n",
            "  'setting alpha = %.1e' % _ALPHA_MIN)\n",
            "/usr/local/lib/python3.6/dist-packages/sklearn/naive_bayes.py:507: UserWarning: alpha too small will result in numeric errors, setting alpha = 1.0e-10\n",
            "  'setting alpha = %.1e' % _ALPHA_MIN)\n"
          ],
          "name": "stderr"
        },
        {
          "output_type": "stream",
          "text": [
            "CPU times: user 1.16 s, sys: 32.2 ms, total: 1.2 s\n",
            "Wall time: 1.2 s\n"
          ],
          "name": "stdout"
        },
        {
          "output_type": "execute_result",
          "data": {
            "text/plain": [
              "GridSearchCV(cv=None, error_score=nan,\n",
              "             estimator=MultinomialNB(alpha=1.0, class_prior=None,\n",
              "                                     fit_prior=True),\n",
              "             iid='deprecated', n_jobs=None,\n",
              "             param_grid={'alpha': [0, 0.01, 0.1, 1]}, pre_dispatch='2*n_jobs',\n",
              "             refit=True, return_train_score=False, scoring=None, verbose=0)"
            ]
          },
          "metadata": {
            "tags": []
          },
          "execution_count": 24
        }
      ]
    },
    {
      "cell_type": "code",
      "metadata": {
        "colab": {
          "base_uri": "https://localhost:8080/"
        },
        "id": "OuPeHqz_OSOU",
        "outputId": "5d01db94-3e41-466c-f63d-60ac486626ab"
      },
      "source": [
        "print(grid_cv.best_params_)\n",
        "grid_cv.best_estimator_"
      ],
      "execution_count": 25,
      "outputs": [
        {
          "output_type": "stream",
          "text": [
            "{'alpha': 0.01}\n"
          ],
          "name": "stdout"
        },
        {
          "output_type": "execute_result",
          "data": {
            "text/plain": [
              "MultinomialNB(alpha=0.01, class_prior=None, fit_prior=True)"
            ]
          },
          "metadata": {
            "tags": []
          },
          "execution_count": 25
        }
      ]
    },
    {
      "cell_type": "code",
      "metadata": {
        "colab": {
          "base_uri": "https://localhost:8080/"
        },
        "id": "wHYWWZz_OTox",
        "outputId": "a3e27de7-5b1c-4713-8554-3b55520f6e43"
      },
      "source": [
        "y_pred = grid_cv.best_estimator_.predict(X_test)\n",
        "accuracy_score(y_test, y_pred)"
      ],
      "execution_count": 26,
      "outputs": [
        {
          "output_type": "execute_result",
          "data": {
            "text/plain": [
              "0.8516666666666667"
            ]
          },
          "metadata": {
            "tags": []
          },
          "execution_count": 26
        }
      ]
    }
  ]
}