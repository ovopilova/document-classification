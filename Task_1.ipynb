{
 "cells": [
  {
   "cell_type": "markdown",
   "metadata": {},
   "source": [
    "# Задание 1\n",
    "\n",
    "[Свертка списка](https://ru.wikipedia.org/wiki/%D0%A1%D0%B2%D1%91%D1%80%D1%82%D0%BA%D0%B0_%D1%81%D0%BF%D0%B8%D1%81%D0%BA%D0%B0) -  это обобщенная операция над списком, c помощью которой можно преобразовать список в единое значение. Например, рассмотрим реализации свертки слева и свертки справа (левоассоциативную свертку и правоассоциативную свертку):"
   ]
  },
  {
   "cell_type": "code",
   "execution_count": 1,
   "metadata": {
    "jupyter": {
     "outputs_hidden": true
    }
   },
   "outputs": [],
   "source": [
    "def foldl(f, x0, lst):\n",
    "    if not lst:\n",
    "        return x0\n",
    "    return foldl(f, f(x0, lst[0]), lst[1:])\n",
    "\n",
    "def foldr(f, x0, lst):\n",
    "    if not lst:\n",
    "        return x0\n",
    "    return f(lst[0], foldr(f, x0, lst[1:]))"
   ]
  },
  {
   "cell_type": "code",
   "execution_count": 2,
   "metadata": {},
   "outputs": [
    {
     "data": {
      "text/plain": [
       "6"
      ]
     },
     "execution_count": 2,
     "metadata": {},
     "output_type": "execute_result"
    }
   ],
   "source": [
    "#сумма\n",
    "foldl(lambda x, y: x + y, 0, [1, 2, 3])"
   ]
  },
  {
   "cell_type": "code",
   "execution_count": 3,
   "metadata": {},
   "outputs": [
    {
     "data": {
      "text/plain": [
       "'123'"
      ]
     },
     "execution_count": 3,
     "metadata": {},
     "output_type": "execute_result"
    }
   ],
   "source": [
    "#конкатенация\n",
    "foldl(lambda x, y: '{}{}'.format(x, y), '', [1, 2, 3])"
   ]
  },
  {
   "cell_type": "code",
   "execution_count": 4,
   "metadata": {},
   "outputs": [
    {
     "data": {
      "text/plain": [
       "(0.16666666666666666, 1.5)"
      ]
     },
     "execution_count": 4,
     "metadata": {},
     "output_type": "execute_result"
    }
   ],
   "source": [
    "f = lambda x, y: x / y\n",
    "foldl(f, 1, [1, 2, 3]), \\\n",
    "foldr(f, 1, [1, 2, 3])"
   ]
  },
  {
   "cell_type": "markdown",
   "metadata": {},
   "source": [
    "Задача: реализовать foldl через foldr и наоборот. Вместо многоточий нужно вставить выражения, которые бы привели к нужному результату. Модифицировать сам список нельзя. "
   ]
  },
  {
   "cell_type": "code",
   "execution_count": 5,
   "metadata": {
    "jupyter": {
     "outputs_hidden": true
    }
   },
   "outputs": [
    {
     "data": {
      "text/plain": [
       "6"
      ]
     },
     "execution_count": 5,
     "metadata": {},
     "output_type": "execute_result"
    }
   ],
   "source": [
    "def foldl2(f, x0, lst):\n",
    "    return foldr(lambda x, p: lambda y: p(f(y, x)), lambda x: x, lst)(x0)\n",
    "foldl2(lambda x, y: x + y, 0, [1, 2, 3])"
   ]
  },
  {
   "cell_type": "code",
   "execution_count": 6,
   "metadata": {
    "jupyter": {
     "outputs_hidden": true
    }
   },
   "outputs": [
    {
     "data": {
      "text/plain": [
       "1.5"
      ]
     },
     "execution_count": 6,
     "metadata": {},
     "output_type": "execute_result"
    }
   ],
   "source": [
    "def foldr2(f, x0, lst):\n",
    "    return foldl(lambda p, x: lambda y: p(f(x, y)), lambda x: x, lst)(x0)\n",
    "foldr(f, 1, [1, 2, 3])"
   ]
  },
  {
   "cell_type": "markdown",
   "metadata": {},
   "source": [
    "# Задание 2\n",
    "\n",
    "нужно написать функцию, которая принимает две строки и проверяет, входит ли хотя бы одна перестановка второй строки в первую. Например:\n",
    "\n",
    "> a = 'abcrotm'\n",
    "> \n",
    "> b = 'tro'\n",
    "\n",
    "функция def check_inv(a, b) вернет True, так как 'rot' содержится в 'abcrotm'. Нужно подумать как можно более оптимальный алгоритм и оценить его сложность. "
   ]
  },
  {
   "cell_type": "code",
   "execution_count": 7,
   "metadata": {
    "jupyter": {
     "outputs_hidden": true
    }
   },
   "outputs": [],
   "source": [
    "from collections import Counter\n",
    "\n",
    "a = 'abcrotm'\n",
    "b = 'tro'\n",
    "def check_inv(a, b):\n",
    "    n_a = len(a)\n",
    "    n_b = len(b)\n",
    "    count_a = Counter(a[:n_b - 1])\n",
    "    for key in Counter(a).keys():\n",
    "        if key not in count_a.keys():\n",
    "            count_a[key] = 0\n",
    "    count_b = Counter(b)\n",
    "    for key in Counter(a).keys():\n",
    "        if key not in count_b.keys():\n",
    "            count_b[key] = 0\n",
    "    for i in range(n_b - 1, n_a):\n",
    "        count_a[a[i]] += 1\n",
    "        if count_a == count_b:\n",
    "            ans = True\n",
    "            break\n",
    "        count_a[a[i + 1 - n_b]] -= 1\n",
    "        \n",
    "    if ans != True:\n",
    "        ans = False\n",
    "    return ans"
   ]
  },
  {
   "cell_type": "code",
   "execution_count": 8,
   "metadata": {},
   "outputs": [
    {
     "data": {
      "text/plain": [
       "True"
      ]
     },
     "execution_count": 8,
     "metadata": {},
     "output_type": "execute_result"
    }
   ],
   "source": [
    "check_inv(a, b)"
   ]
  },
  {
   "cell_type": "markdown",
   "metadata": {},
   "source": [
    "# Задание 3\n",
    "\n",
    "Реализовать бинарное дерево (класс Tree), в нём методы __repr__, __str__, __iter__ (итерация только по листьям)."
   ]
  },
  {
   "cell_type": "code",
   "execution_count": 9,
   "metadata": {},
   "outputs": [
    {
     "name": "stdout",
     "output_type": "stream",
     "text": [
      "True\n",
      "3 4 2\n"
     ]
    }
   ],
   "source": [
    "class Tree:\n",
    "    def __init__(self, value=None, left=None, right=None):\n",
    "        self.left = left\n",
    "        self.right = right\n",
    "        self.value = value\n",
    "        \n",
    "    def __iter__(self):\n",
    "        ans_l = []\n",
    "        ans_r = []\n",
    "        \n",
    "        if self.left:\n",
    "            ans_l = list(self.left)\n",
    "        if self.right:\n",
    "            ans_r = list(self.right)\n",
    "        if self.left == None and self.right == None:\n",
    "            ans = iter([self.value])\n",
    "            return ans\n",
    "        ans = iter(ans_l + ans_r)\n",
    "        return ans\n",
    "        \n",
    "\n",
    "    def __str__(self):\n",
    "        if self.left == None and self.right == None:\n",
    "            ans = str(self.value)\n",
    "            return ans\n",
    "        ans = []\n",
    "        if self.left:\n",
    "            ans.append(self.left.__str__())\n",
    "        if self.right:\n",
    "            ans.append(self.right.__str__())          \n",
    "        return ' '.join(ans)\n",
    "    \n",
    "    def __repr__(self): #using f-strings\n",
    "        \n",
    "        if self.left is None and self.right is None:\n",
    "            return f\"Tree({self.value})\"\n",
    "        elif self.left == None:\n",
    "            return f\"Tree({self.value}, {self.right.__repr__()})\"\n",
    "        elif self.right == None:\n",
    "            return f\"Tree({self.value}, {self.left.__repr__()})\"       \n",
    "        else:\n",
    "            return f\"Tree({self.value}, {self.left.__repr__()}, {self.right.__repr__()})\" \n",
    " \n",
    "    \n",
    "tree = Tree(0, Tree(1, Tree(3), Tree(4)), Tree(2))\n",
    "\n",
    "print(list(tree) == [3, 4, 2])\n",
    "print(tree)"
   ]
  },
  {
   "cell_type": "markdown",
   "metadata": {},
   "source": [
    "# Задание 4\n",
    "\n",
    "Реализовать простейший калькулятор математических выражений:\n",
    "- только целые числа\n",
    "- **+**, **\\-**, **\\***, **\\**\n",
    "- скобки\n",
    "\n",
    "**Можно использовать регулярные выражения**"
   ]
  },
  {
   "cell_type": "code",
   "execution_count": 10,
   "metadata": {},
   "outputs": [],
   "source": [
    "def split(expr):\n",
    "    result = []\n",
    "    expr = expr.split()\n",
    "    for value in expr:\n",
    "        if(value[0] == '('):\n",
    "            result.append('(')\n",
    "            result.append(value[1:])\n",
    "        elif(value[-1] == ')'):\n",
    "            result.append(value[:-1])\n",
    "            result.append(')')\n",
    "        else:\n",
    "            result.append(value)\n",
    "    return result\n",
    "\n",
    "def calc(expr):\n",
    "    expr = split(expr)\n",
    "    \n",
    "    operations = {\n",
    "        '+': lambda a, b: a + b,\n",
    "        '-': lambda a, b: a - b,\n",
    "        '*': lambda a, b: a * b,\n",
    "        '/': lambda a, b: a / b}\n",
    "\n",
    "    total = []\n",
    "    operands = []\n",
    "\n",
    "    for value in expr:\n",
    "        if value == '(':\n",
    "            operands.append(value)\n",
    "        if value == ')':\n",
    "            while operands[-1] != '(':\n",
    "                total.append(operands.pop()) #добавляем все, что между скобками и удаляем скобки\n",
    "            operands.pop()\n",
    "        if value == '*' or value == '/':\n",
    "            operands.append(value)\n",
    "        if value == '+':\n",
    "            while len(operands) > 0 and (operands[-1] == '*' or operands[-1] == '/' or operands[-1] == '-'): #тк умножение и деление более приоритетны, а разность = сумме (по приоритету)\n",
    "                total.append(operands.pop())\n",
    "            operands.append(value)            \n",
    "        if value == '-':\n",
    "            while len(operands) > 0 and (operands[-1] == '*' or operands[-1] == '/' or operands[-1] == '+'): #аналогично\n",
    "                total.append(operands.pop())\n",
    "            operands.append(value)  \n",
    "        if value.isnumeric() == True:\n",
    "            total.append(value)\n",
    "            \n",
    "    operands.reverse()\n",
    "    for i in operands:\n",
    "        total.append(i)\n",
    "    \n",
    "    result = []\n",
    "    \n",
    "    for value in total:\n",
    "        if value.isnumeric() == True:\n",
    "            result.append(int(value))\n",
    "        if value in operations.keys():\n",
    "            func = operations[value]\n",
    "            temp = result\n",
    "            result = result[:-2]\n",
    "            result.append(func(temp[-2], temp[-1]))\n",
    "            \n",
    "    ans = result[0]\n",
    "    return ans"
   ]
  },
  {
   "cell_type": "code",
   "execution_count": 11,
   "metadata": {},
   "outputs": [
    {
     "data": {
      "text/plain": [
       "True"
      ]
     },
     "execution_count": 11,
     "metadata": {},
     "output_type": "execute_result"
    }
   ],
   "source": [
    "calc('2 * (15 - 3 * 4) - 2') == 4"
   ]
  },
  {
   "cell_type": "code",
   "execution_count": 12,
   "metadata": {},
   "outputs": [
    {
     "data": {
      "text/plain": [
       "-3.0"
      ]
     },
     "execution_count": 12,
     "metadata": {},
     "output_type": "execute_result"
    }
   ],
   "source": [
    "calc('10 - 5 * 3 + (2 + 6 * 1) / 4')"
   ]
  }
 ],
 "metadata": {
  "kernelspec": {
   "display_name": "Python 3",
   "language": "python",
   "name": "python3"
  },
  "language_info": {
   "codemirror_mode": {
    "name": "ipython",
    "version": 3
   },
   "file_extension": ".py",
   "mimetype": "text/x-python",
   "name": "python",
   "nbconvert_exporter": "python",
   "pygments_lexer": "ipython3",
   "version": "3.7.4"
  }
 },
 "nbformat": 4,
 "nbformat_minor": 4
}
